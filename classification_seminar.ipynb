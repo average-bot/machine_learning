{
 "cells": [
  {
   "cell_type": "code",
   "execution_count": 1,
   "id": "0cc20d4b",
   "metadata": {},
   "outputs": [],
   "source": [
    "# Import libraries and modules\n",
    "# import datasets\n",
    "# pre-process dataset (cleaning, missing data, encoding, train/test splitting)\n",
    "# train models\n",
    "# test models"
   ]
  },
  {
   "cell_type": "code",
   "execution_count": 2,
   "id": "dc52cdfd",
   "metadata": {},
   "outputs": [],
   "source": [
    "# Step 1 import all libraries\n",
    "import pandas as pd\n",
    "import numpy as np"
   ]
  },
  {
   "cell_type": "code",
   "execution_count": 3,
   "id": "ac7543e5",
   "metadata": {},
   "outputs": [
    {
     "data": {
      "text/html": [
       "<div>\n",
       "<style scoped>\n",
       "    .dataframe tbody tr th:only-of-type {\n",
       "        vertical-align: middle;\n",
       "    }\n",
       "\n",
       "    .dataframe tbody tr th {\n",
       "        vertical-align: top;\n",
       "    }\n",
       "\n",
       "    .dataframe thead th {\n",
       "        text-align: right;\n",
       "    }\n",
       "</style>\n",
       "<table border=\"1\" class=\"dataframe\">\n",
       "  <thead>\n",
       "    <tr style=\"text-align: right;\">\n",
       "      <th></th>\n",
       "      <th>Loan Request ID</th>\n",
       "      <th>Gender</th>\n",
       "      <th>Age</th>\n",
       "      <th>Salary</th>\n",
       "      <th>Approval</th>\n",
       "    </tr>\n",
       "  </thead>\n",
       "  <tbody>\n",
       "    <tr>\n",
       "      <th>0</th>\n",
       "      <td>732</td>\n",
       "      <td>Female</td>\n",
       "      <td>39</td>\n",
       "      <td>137000</td>\n",
       "      <td>Yes</td>\n",
       "    </tr>\n",
       "    <tr>\n",
       "      <th>1</th>\n",
       "      <td>258</td>\n",
       "      <td>Female</td>\n",
       "      <td>41</td>\n",
       "      <td>65500</td>\n",
       "      <td>No</td>\n",
       "    </tr>\n",
       "    <tr>\n",
       "      <th>2</th>\n",
       "      <td>1059</td>\n",
       "      <td>Male</td>\n",
       "      <td>42</td>\n",
       "      <td>146500</td>\n",
       "      <td>Yes</td>\n",
       "    </tr>\n",
       "    <tr>\n",
       "      <th>3</th>\n",
       "      <td>1075</td>\n",
       "      <td>Male</td>\n",
       "      <td>62</td>\n",
       "      <td>83000</td>\n",
       "      <td>Yes</td>\n",
       "    </tr>\n",
       "    <tr>\n",
       "      <th>4</th>\n",
       "      <td>853</td>\n",
       "      <td>Male</td>\n",
       "      <td>42</td>\n",
       "      <td>75000</td>\n",
       "      <td>No</td>\n",
       "    </tr>\n",
       "  </tbody>\n",
       "</table>\n",
       "</div>"
      ],
      "text/plain": [
       "   Loan Request ID  Gender  Age  Salary Approval\n",
       "0              732  Female   39  137000      Yes\n",
       "1              258  Female   41   65500       No\n",
       "2             1059    Male   42  146500      Yes\n",
       "3             1075    Male   62   83000      Yes\n",
       "4              853    Male   42   75000       No"
      ]
     },
     "execution_count": 3,
     "metadata": {},
     "output_type": "execute_result"
    }
   ],
   "source": [
    "# Step 2 import your dataset\n",
    "# Loading the data from the excel file\n",
    "def load_requests_data(filename):\n",
    "    return pd.read_excel(filename)\n",
    "\n",
    "requests_data = load_requests_data(\"loan_requests.xlsx\")\n",
    "requests_data.head()\n",
    "# requests_data = requests_data.set_index(\"Loan Request ID\")"
   ]
  },
  {
   "cell_type": "code",
   "execution_count": 4,
   "id": "9979ad80",
   "metadata": {},
   "outputs": [
    {
     "name": "stdout",
     "output_type": "stream",
     "text": [
      "<class 'pandas.core.frame.DataFrame'>\n",
      "RangeIndex: 1000 entries, 0 to 999\n",
      "Data columns (total 5 columns):\n",
      " #   Column           Non-Null Count  Dtype \n",
      "---  ------           --------------  ----- \n",
      " 0   Loan Request ID  1000 non-null   int64 \n",
      " 1   Gender           1000 non-null   object\n",
      " 2   Age              1000 non-null   int64 \n",
      " 3   Salary           1000 non-null   int64 \n",
      " 4   Approval         1000 non-null   object\n",
      "dtypes: int64(3), object(2)\n",
      "memory usage: 39.2+ KB\n"
     ]
    }
   ],
   "source": [
    "# pre-process dataset (cleaning, missing data, encoding, train/test splitting)\n",
    "requests_data.info() # Check that we have no missing data"
   ]
  },
  {
   "cell_type": "code",
   "execution_count": 5,
   "id": "92191890",
   "metadata": {},
   "outputs": [
    {
     "data": {
      "text/html": [
       "<div>\n",
       "<style scoped>\n",
       "    .dataframe tbody tr th:only-of-type {\n",
       "        vertical-align: middle;\n",
       "    }\n",
       "\n",
       "    .dataframe tbody tr th {\n",
       "        vertical-align: top;\n",
       "    }\n",
       "\n",
       "    .dataframe thead th {\n",
       "        text-align: right;\n",
       "    }\n",
       "</style>\n",
       "<table border=\"1\" class=\"dataframe\">\n",
       "  <thead>\n",
       "    <tr style=\"text-align: right;\">\n",
       "      <th></th>\n",
       "      <th>Female</th>\n",
       "      <th>Male</th>\n",
       "    </tr>\n",
       "  </thead>\n",
       "  <tbody>\n",
       "    <tr>\n",
       "      <th>0</th>\n",
       "      <td>1</td>\n",
       "      <td>0</td>\n",
       "    </tr>\n",
       "    <tr>\n",
       "      <th>1</th>\n",
       "      <td>1</td>\n",
       "      <td>0</td>\n",
       "    </tr>\n",
       "    <tr>\n",
       "      <th>2</th>\n",
       "      <td>0</td>\n",
       "      <td>1</td>\n",
       "    </tr>\n",
       "    <tr>\n",
       "      <th>3</th>\n",
       "      <td>0</td>\n",
       "      <td>1</td>\n",
       "    </tr>\n",
       "    <tr>\n",
       "      <th>4</th>\n",
       "      <td>0</td>\n",
       "      <td>1</td>\n",
       "    </tr>\n",
       "  </tbody>\n",
       "</table>\n",
       "</div>"
      ],
      "text/plain": [
       "   Female  Male\n",
       "0       1     0\n",
       "1       1     0\n",
       "2       0     1\n",
       "3       0     1\n",
       "4       0     1"
      ]
     },
     "execution_count": 5,
     "metadata": {},
     "output_type": "execute_result"
    }
   ],
   "source": [
    "# Creating dummy variables for Gender\n",
    "gender_dummy = pd.get_dummies(requests_data['Gender'])\n",
    "# Add dummy variable for Approval\n",
    "approval_dummy = pd.get_dummies(requests_data['Approval'])\n",
    "gender_dummy.head()"
   ]
  },
  {
   "cell_type": "code",
   "execution_count": 6,
   "id": "fbd113fa",
   "metadata": {},
   "outputs": [
    {
     "data": {
      "text/html": [
       "<div>\n",
       "<style scoped>\n",
       "    .dataframe tbody tr th:only-of-type {\n",
       "        vertical-align: middle;\n",
       "    }\n",
       "\n",
       "    .dataframe tbody tr th {\n",
       "        vertical-align: top;\n",
       "    }\n",
       "\n",
       "    .dataframe thead th {\n",
       "        text-align: right;\n",
       "    }\n",
       "</style>\n",
       "<table border=\"1\" class=\"dataframe\">\n",
       "  <thead>\n",
       "    <tr style=\"text-align: right;\">\n",
       "      <th></th>\n",
       "      <th>Loan Request ID</th>\n",
       "      <th>Gender</th>\n",
       "      <th>Age</th>\n",
       "      <th>Salary</th>\n",
       "      <th>Approval</th>\n",
       "      <th>Female</th>\n",
       "      <th>Male</th>\n",
       "      <th>No</th>\n",
       "      <th>Yes</th>\n",
       "    </tr>\n",
       "  </thead>\n",
       "  <tbody>\n",
       "    <tr>\n",
       "      <th>0</th>\n",
       "      <td>732</td>\n",
       "      <td>Female</td>\n",
       "      <td>39</td>\n",
       "      <td>137000</td>\n",
       "      <td>Yes</td>\n",
       "      <td>1</td>\n",
       "      <td>0</td>\n",
       "      <td>0</td>\n",
       "      <td>1</td>\n",
       "    </tr>\n",
       "    <tr>\n",
       "      <th>1</th>\n",
       "      <td>258</td>\n",
       "      <td>Female</td>\n",
       "      <td>41</td>\n",
       "      <td>65500</td>\n",
       "      <td>No</td>\n",
       "      <td>1</td>\n",
       "      <td>0</td>\n",
       "      <td>1</td>\n",
       "      <td>0</td>\n",
       "    </tr>\n",
       "    <tr>\n",
       "      <th>2</th>\n",
       "      <td>1059</td>\n",
       "      <td>Male</td>\n",
       "      <td>42</td>\n",
       "      <td>146500</td>\n",
       "      <td>Yes</td>\n",
       "      <td>0</td>\n",
       "      <td>1</td>\n",
       "      <td>0</td>\n",
       "      <td>1</td>\n",
       "    </tr>\n",
       "    <tr>\n",
       "      <th>3</th>\n",
       "      <td>1075</td>\n",
       "      <td>Male</td>\n",
       "      <td>62</td>\n",
       "      <td>83000</td>\n",
       "      <td>Yes</td>\n",
       "      <td>0</td>\n",
       "      <td>1</td>\n",
       "      <td>0</td>\n",
       "      <td>1</td>\n",
       "    </tr>\n",
       "    <tr>\n",
       "      <th>4</th>\n",
       "      <td>853</td>\n",
       "      <td>Male</td>\n",
       "      <td>42</td>\n",
       "      <td>75000</td>\n",
       "      <td>No</td>\n",
       "      <td>0</td>\n",
       "      <td>1</td>\n",
       "      <td>1</td>\n",
       "      <td>0</td>\n",
       "    </tr>\n",
       "  </tbody>\n",
       "</table>\n",
       "</div>"
      ],
      "text/plain": [
       "   Loan Request ID  Gender  Age  Salary Approval  Female  Male  No  Yes\n",
       "0              732  Female   39  137000      Yes       1     0   0    1\n",
       "1              258  Female   41   65500       No       1     0   1    0\n",
       "2             1059    Male   42  146500      Yes       0     1   0    1\n",
       "3             1075    Male   62   83000      Yes       0     1   0    1\n",
       "4              853    Male   42   75000       No       0     1   1    0"
      ]
     },
     "execution_count": 6,
     "metadata": {},
     "output_type": "execute_result"
    }
   ],
   "source": [
    "# Add gender dummy variables columns to the request data\n",
    "requests_data = pd.concat((requests_data, gender_dummy), axis=1)\n",
    "# Add approval dummy variables columns to the request data\n",
    "requests_data = pd.concat((requests_data, approval_dummy), axis=1)\n",
    "requests_data.head()"
   ]
  },
  {
   "cell_type": "code",
   "execution_count": 7,
   "id": "af660d6f",
   "metadata": {},
   "outputs": [],
   "source": [
    "requests_data.rename(columns={\"Yes\":\"isApproved\", \"Female\":\"isFemale\"}, inplace = True)\n",
    "requests_data = requests_data.drop(['Gender', 'Male', 'No', 'Approval'], axis=1)"
   ]
  },
  {
   "cell_type": "code",
   "execution_count": 8,
   "id": "e358f2b4",
   "metadata": {},
   "outputs": [
    {
     "data": {
      "text/html": [
       "<div>\n",
       "<style scoped>\n",
       "    .dataframe tbody tr th:only-of-type {\n",
       "        vertical-align: middle;\n",
       "    }\n",
       "\n",
       "    .dataframe tbody tr th {\n",
       "        vertical-align: top;\n",
       "    }\n",
       "\n",
       "    .dataframe thead th {\n",
       "        text-align: right;\n",
       "    }\n",
       "</style>\n",
       "<table border=\"1\" class=\"dataframe\">\n",
       "  <thead>\n",
       "    <tr style=\"text-align: right;\">\n",
       "      <th></th>\n",
       "      <th>Loan Request ID</th>\n",
       "      <th>Age</th>\n",
       "      <th>Salary</th>\n",
       "      <th>isFemale</th>\n",
       "      <th>isApproved</th>\n",
       "    </tr>\n",
       "  </thead>\n",
       "  <tbody>\n",
       "    <tr>\n",
       "      <th>0</th>\n",
       "      <td>732</td>\n",
       "      <td>39</td>\n",
       "      <td>137000</td>\n",
       "      <td>1</td>\n",
       "      <td>1</td>\n",
       "    </tr>\n",
       "    <tr>\n",
       "      <th>1</th>\n",
       "      <td>258</td>\n",
       "      <td>41</td>\n",
       "      <td>65500</td>\n",
       "      <td>1</td>\n",
       "      <td>0</td>\n",
       "    </tr>\n",
       "    <tr>\n",
       "      <th>2</th>\n",
       "      <td>1059</td>\n",
       "      <td>42</td>\n",
       "      <td>146500</td>\n",
       "      <td>0</td>\n",
       "      <td>1</td>\n",
       "    </tr>\n",
       "    <tr>\n",
       "      <th>3</th>\n",
       "      <td>1075</td>\n",
       "      <td>62</td>\n",
       "      <td>83000</td>\n",
       "      <td>0</td>\n",
       "      <td>1</td>\n",
       "    </tr>\n",
       "    <tr>\n",
       "      <th>4</th>\n",
       "      <td>853</td>\n",
       "      <td>42</td>\n",
       "      <td>75000</td>\n",
       "      <td>0</td>\n",
       "      <td>0</td>\n",
       "    </tr>\n",
       "  </tbody>\n",
       "</table>\n",
       "</div>"
      ],
      "text/plain": [
       "   Loan Request ID  Age  Salary  isFemale  isApproved\n",
       "0              732   39  137000         1           1\n",
       "1              258   41   65500         1           0\n",
       "2             1059   42  146500         0           1\n",
       "3             1075   62   83000         0           1\n",
       "4              853   42   75000         0           0"
      ]
     },
     "execution_count": 8,
     "metadata": {},
     "output_type": "execute_result"
    }
   ],
   "source": [
    "requests_data.head()"
   ]
  },
  {
   "cell_type": "code",
   "execution_count": 9,
   "id": "e0946975",
   "metadata": {},
   "outputs": [
    {
     "data": {
      "text/html": [
       "<div>\n",
       "<style scoped>\n",
       "    .dataframe tbody tr th:only-of-type {\n",
       "        vertical-align: middle;\n",
       "    }\n",
       "\n",
       "    .dataframe tbody tr th {\n",
       "        vertical-align: top;\n",
       "    }\n",
       "\n",
       "    .dataframe thead th {\n",
       "        text-align: right;\n",
       "    }\n",
       "</style>\n",
       "<table border=\"1\" class=\"dataframe\">\n",
       "  <thead>\n",
       "    <tr style=\"text-align: right;\">\n",
       "      <th></th>\n",
       "      <th>Loan Request ID</th>\n",
       "      <th>Age</th>\n",
       "      <th>Salary</th>\n",
       "      <th>isFemale</th>\n",
       "      <th>isApproved</th>\n",
       "    </tr>\n",
       "  </thead>\n",
       "  <tbody>\n",
       "    <tr>\n",
       "      <th>count</th>\n",
       "      <td>1000.000000</td>\n",
       "      <td>1000.000000</td>\n",
       "      <td>1000.000000</td>\n",
       "      <td>1000.000000</td>\n",
       "      <td>1000.000000</td>\n",
       "    </tr>\n",
       "    <tr>\n",
       "      <th>mean</th>\n",
       "      <td>625.500000</td>\n",
       "      <td>42.106000</td>\n",
       "      <td>72689.000000</td>\n",
       "      <td>0.516000</td>\n",
       "      <td>0.402000</td>\n",
       "    </tr>\n",
       "    <tr>\n",
       "      <th>std</th>\n",
       "      <td>288.819436</td>\n",
       "      <td>10.707073</td>\n",
       "      <td>34488.341867</td>\n",
       "      <td>0.499994</td>\n",
       "      <td>0.490547</td>\n",
       "    </tr>\n",
       "    <tr>\n",
       "      <th>min</th>\n",
       "      <td>126.000000</td>\n",
       "      <td>20.000000</td>\n",
       "      <td>15000.000000</td>\n",
       "      <td>0.000000</td>\n",
       "      <td>0.000000</td>\n",
       "    </tr>\n",
       "    <tr>\n",
       "      <th>25%</th>\n",
       "      <td>375.750000</td>\n",
       "      <td>34.000000</td>\n",
       "      <td>46375.000000</td>\n",
       "      <td>0.000000</td>\n",
       "      <td>0.000000</td>\n",
       "    </tr>\n",
       "    <tr>\n",
       "      <th>50%</th>\n",
       "      <td>625.500000</td>\n",
       "      <td>42.000000</td>\n",
       "      <td>72000.000000</td>\n",
       "      <td>1.000000</td>\n",
       "      <td>0.000000</td>\n",
       "    </tr>\n",
       "    <tr>\n",
       "      <th>75%</th>\n",
       "      <td>875.250000</td>\n",
       "      <td>50.000000</td>\n",
       "      <td>90000.000000</td>\n",
       "      <td>1.000000</td>\n",
       "      <td>1.000000</td>\n",
       "    </tr>\n",
       "    <tr>\n",
       "      <th>max</th>\n",
       "      <td>1125.000000</td>\n",
       "      <td>65.000000</td>\n",
       "      <td>152500.000000</td>\n",
       "      <td>1.000000</td>\n",
       "      <td>1.000000</td>\n",
       "    </tr>\n",
       "  </tbody>\n",
       "</table>\n",
       "</div>"
      ],
      "text/plain": [
       "       Loan Request ID          Age         Salary     isFemale   isApproved\n",
       "count      1000.000000  1000.000000    1000.000000  1000.000000  1000.000000\n",
       "mean        625.500000    42.106000   72689.000000     0.516000     0.402000\n",
       "std         288.819436    10.707073   34488.341867     0.499994     0.490547\n",
       "min         126.000000    20.000000   15000.000000     0.000000     0.000000\n",
       "25%         375.750000    34.000000   46375.000000     0.000000     0.000000\n",
       "50%         625.500000    42.000000   72000.000000     1.000000     0.000000\n",
       "75%         875.250000    50.000000   90000.000000     1.000000     1.000000\n",
       "max        1125.000000    65.000000  152500.000000     1.000000     1.000000"
      ]
     },
     "execution_count": 9,
     "metadata": {},
     "output_type": "execute_result"
    }
   ],
   "source": [
    "# descriptive statistics over the data\n",
    "requests_data.describe()"
   ]
  },
  {
   "cell_type": "code",
   "execution_count": 10,
   "id": "9ad47059",
   "metadata": {},
   "outputs": [
    {
     "data": {
      "text/plain": [
       "0    598\n",
       "1    402\n",
       "Name: isApproved, dtype: int64"
      ]
     },
     "execution_count": 10,
     "metadata": {},
     "output_type": "execute_result"
    }
   ],
   "source": [
    "# How many requests are approved or not\n",
    "requests_data[\"isApproved\"].value_counts()"
   ]
  },
  {
   "cell_type": "code",
   "execution_count": 11,
   "id": "3c530614",
   "metadata": {},
   "outputs": [],
   "source": [
    "# Step 3 import models and modules\n",
    "from sklearn.linear_model import LogisticRegression\n",
    "# For splitting the train and test data\n",
    "from sklearn.model_selection import train_test_split"
   ]
  },
  {
   "cell_type": "code",
   "execution_count": 12,
   "id": "35d947c0",
   "metadata": {},
   "outputs": [],
   "source": [
    "# Step 4 instantiate the models with hyperparamaterers\n",
    "modelLogisticR = LogisticRegression() # default in this case"
   ]
  },
  {
   "cell_type": "code",
   "execution_count": 13,
   "id": "e7336f5e",
   "metadata": {},
   "outputs": [],
   "source": [
    "# Step 5 train the test split\n",
    "# split x's and y ( .iloc[rows, columns])\n",
    "# ignoring the request_id for now\n",
    "x = requests_data.iloc[:,1:4] # age, salary, isfemale as x\n",
    "y = requests_data.iloc[:,4] # isApproved as y"
   ]
  },
  {
   "cell_type": "code",
   "execution_count": 14,
   "id": "911fbc0e",
   "metadata": {},
   "outputs": [],
   "source": [
    "# Split train and test data (add random_state = 1 if you want to reproduce the same result again)\n",
    "x_train, x_test, y_train, y_test = train_test_split(x, y, test_size = 0.2)"
   ]
  },
  {
   "cell_type": "code",
   "execution_count": 15,
   "id": "c9854fd4",
   "metadata": {
    "scrolled": true
   },
   "outputs": [
    {
     "data": {
      "text/plain": [
       "LogisticRegression()"
      ]
     },
     "execution_count": 15,
     "metadata": {},
     "output_type": "execute_result"
    }
   ],
   "source": [
    "# Step 6 train the models\n",
    "modelLogisticR.fit(x_train, y_train)"
   ]
  },
  {
   "cell_type": "code",
   "execution_count": 16,
   "id": "f900a1cc",
   "metadata": {},
   "outputs": [],
   "source": [
    "# Get the rSquare for the trained model\n",
    "# print(modelLogisticR.score(x_test, y_test))\n"
   ]
  },
  {
   "cell_type": "code",
   "execution_count": 25,
   "id": "ca90aebb",
   "metadata": {},
   "outputs": [],
   "source": [
    "# Confusion matrix\n",
    "from sklearn.metrics import confusion_matrix\n",
    "# confusion_matrix(y_train, y_train_pred)"
   ]
  },
  {
   "cell_type": "code",
   "execution_count": 18,
   "id": "0ac5164d",
   "metadata": {},
   "outputs": [],
   "source": [
    "# https://scikit-learn.org/stable/modules/model_evaluation.html\n",
    "from sklearn.metrics import precision_score, recall_score"
   ]
  },
  {
   "cell_type": "code",
   "execution_count": 19,
   "id": "e7120707",
   "metadata": {},
   "outputs": [],
   "source": [
    "# Reciever Operating Characcteristic and Area Under Curve\n",
    "from sklearn.metrics import roc_curve,  roc_auc_score"
   ]
  },
  {
   "cell_type": "code",
   "execution_count": 28,
   "id": "8ac5131b",
   "metadata": {},
   "outputs": [
    {
     "name": "stdout",
     "output_type": "stream",
     "text": [
      "0.0\n"
     ]
    }
   ],
   "source": [
    "# Step 7 sklearn metrics\n",
    "LogisticRPred = modelLogisticR.predict(x_test)\n",
    "print(precision_score(LogisticRPred, y_test))"
   ]
  },
  {
   "cell_type": "code",
   "execution_count": 26,
   "id": "56ded80a",
   "metadata": {},
   "outputs": [
    {
     "data": {
      "text/plain": [
       "0.5"
      ]
     },
     "execution_count": 26,
     "metadata": {},
     "output_type": "execute_result"
    }
   ],
   "source": [
    "roc_auc_score(y_test, LogisticRPred, average=None)"
   ]
  },
  {
   "cell_type": "code",
   "execution_count": null,
   "id": "3694e83b",
   "metadata": {},
   "outputs": [],
   "source": []
  }
 ],
 "metadata": {
  "kernelspec": {
   "display_name": "Python 3 (ipykernel)",
   "language": "python",
   "name": "python3"
  },
  "language_info": {
   "codemirror_mode": {
    "name": "ipython",
    "version": 3
   },
   "file_extension": ".py",
   "mimetype": "text/x-python",
   "name": "python",
   "nbconvert_exporter": "python",
   "pygments_lexer": "ipython3",
   "version": "3.9.12"
  }
 },
 "nbformat": 4,
 "nbformat_minor": 5
}
