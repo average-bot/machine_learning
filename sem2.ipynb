{
 "cells": [
  {
   "cell_type": "markdown",
   "id": "744dd52d",
   "metadata": {},
   "source": [
    "# Seminar 2 - Regression"
   ]
  },
  {
   "cell_type": "markdown",
   "id": "895e6545",
   "metadata": {},
   "source": [
    "### Sandra Kaljula and Sara Momiroska"
   ]
  },
  {
   "cell_type": "markdown",
   "id": "f80b36bd",
   "metadata": {},
   "source": [
    "#### for plotting"
   ]
  },
  {
   "cell_type": "code",
   "execution_count": 1,
   "id": "24865716",
   "metadata": {},
   "outputs": [],
   "source": [
    "%matplotlib inline\n",
    "import matplotlib as mpl\n",
    "import matplotlib.pyplot as plt\n",
    "import seaborn as sns\n",
    "\n",
    "mpl.rc('axes', labelsize=14)\n",
    "mpl.rc('xtick', labelsize=12)\n",
    "mpl.rc('ytick', labelsize=12)"
   ]
  },
  {
   "cell_type": "markdown",
   "id": "61392234",
   "metadata": {},
   "source": [
    "#### get MAE below 25 000"
   ]
  },
  {
   "cell_type": "markdown",
   "id": "9633a8f3",
   "metadata": {},
   "source": [
    "# Step 1 import all libraries"
   ]
  },
  {
   "cell_type": "code",
   "execution_count": 2,
   "id": "89088ad9",
   "metadata": {},
   "outputs": [],
   "source": [
    "import pandas as pd\n",
    "import numpy as np\n",
    "import os\n",
    "\n",
    "# processing\n",
    "from sklearn.model_selection import train_test_split\n",
    "from sklearn.preprocessing import LabelEncoder\n",
    "\n",
    "# grid search\n",
    "from sklearn.model_selection import GridSearchCV\n",
    "\n",
    "# regression models\n",
    "from sklearn.ensemble import GradientBoostingRegressor\n",
    "from sklearn.linear_model import LinearRegression\n",
    "from sklearn.ensemble import RandomForestRegressor\n",
    "\n",
    "# metrics\n",
    "from sklearn.metrics import mean_absolute_error\n",
    "\n",
    "from sklearn import datasets\n",
    "\n",
    "# to make this notebook's output identical at every run\n",
    "np.random.seed(68)"
   ]
  },
  {
   "cell_type": "markdown",
   "id": "f4aa1d75",
   "metadata": {},
   "source": [
    "# Step 2 import your dataset"
   ]
  },
  {
   "cell_type": "markdown",
   "id": "33c5f48c",
   "metadata": {},
   "source": [
    "Year - The year of the salary paid \\\n",
    "Experience - The experience level in the job \\\n",
    "Type - The type of employement \\\n",
    "Title - The role/job title \\\n",
    "Residence - The employee's primary country of residence \\\n",
    "Salary - The total gross salary \\\n",
    "Currency - The currency of the salary paid \\\n",
    "Remote work - The possibility to work remotely \\\n",
    "Company location - The country of the employer's main office \\\n",
    "Company size - The size of the company during the year: S<50 employees, M 50-250 employees, L>250 employees \\\n",
    "Salary in USD - The salary in USD (this is the target variable which should be predicted) "
   ]
  },
  {
   "cell_type": "code",
   "execution_count": 3,
   "id": "8305dc88",
   "metadata": {},
   "outputs": [
    {
     "data": {
      "text/html": [
       "<div>\n",
       "<style scoped>\n",
       "    .dataframe tbody tr th:only-of-type {\n",
       "        vertical-align: middle;\n",
       "    }\n",
       "\n",
       "    .dataframe tbody tr th {\n",
       "        vertical-align: top;\n",
       "    }\n",
       "\n",
       "    .dataframe thead th {\n",
       "        text-align: right;\n",
       "    }\n",
       "</style>\n",
       "<table border=\"1\" class=\"dataframe\">\n",
       "  <thead>\n",
       "    <tr style=\"text-align: right;\">\n",
       "      <th></th>\n",
       "      <th>Year</th>\n",
       "      <th>Experience</th>\n",
       "      <th>Type</th>\n",
       "      <th>Title</th>\n",
       "      <th>Residence</th>\n",
       "      <th>Salary</th>\n",
       "      <th>Currency</th>\n",
       "      <th>Remote work</th>\n",
       "      <th>Company location</th>\n",
       "      <th>Company size</th>\n",
       "      <th>Salary in USD</th>\n",
       "    </tr>\n",
       "  </thead>\n",
       "  <tbody>\n",
       "    <tr>\n",
       "      <th>0</th>\n",
       "      <td>2020</td>\n",
       "      <td>Intermediate</td>\n",
       "      <td>Full-time</td>\n",
       "      <td>Data Scientist</td>\n",
       "      <td>DE</td>\n",
       "      <td>70000</td>\n",
       "      <td>EUR</td>\n",
       "      <td>No</td>\n",
       "      <td>DE</td>\n",
       "      <td>L</td>\n",
       "      <td>79833</td>\n",
       "    </tr>\n",
       "    <tr>\n",
       "      <th>1</th>\n",
       "      <td>2020</td>\n",
       "      <td>Senior</td>\n",
       "      <td>Full-time</td>\n",
       "      <td>Machine Learning Scientist</td>\n",
       "      <td>JP</td>\n",
       "      <td>260000</td>\n",
       "      <td>USD</td>\n",
       "      <td>No</td>\n",
       "      <td>JP</td>\n",
       "      <td>S</td>\n",
       "      <td>260000</td>\n",
       "    </tr>\n",
       "    <tr>\n",
       "      <th>2</th>\n",
       "      <td>2020</td>\n",
       "      <td>Senior</td>\n",
       "      <td>Full-time</td>\n",
       "      <td>Big Data Engineer</td>\n",
       "      <td>GB</td>\n",
       "      <td>85000</td>\n",
       "      <td>GBP</td>\n",
       "      <td>Partially</td>\n",
       "      <td>GB</td>\n",
       "      <td>M</td>\n",
       "      <td>109024</td>\n",
       "    </tr>\n",
       "    <tr>\n",
       "      <th>3</th>\n",
       "      <td>2020</td>\n",
       "      <td>Intermediate</td>\n",
       "      <td>Full-time</td>\n",
       "      <td>Product Data Analyst</td>\n",
       "      <td>HN</td>\n",
       "      <td>20000</td>\n",
       "      <td>USD</td>\n",
       "      <td>No</td>\n",
       "      <td>HN</td>\n",
       "      <td>S</td>\n",
       "      <td>20000</td>\n",
       "    </tr>\n",
       "    <tr>\n",
       "      <th>4</th>\n",
       "      <td>2020</td>\n",
       "      <td>Senior</td>\n",
       "      <td>Full-time</td>\n",
       "      <td>Machine Learning Engineer</td>\n",
       "      <td>US</td>\n",
       "      <td>150000</td>\n",
       "      <td>USD</td>\n",
       "      <td>Partially</td>\n",
       "      <td>US</td>\n",
       "      <td>L</td>\n",
       "      <td>150000</td>\n",
       "    </tr>\n",
       "  </tbody>\n",
       "</table>\n",
       "</div>"
      ],
      "text/plain": [
       "   Year    Experience       Type                       Title Residence  \\\n",
       "0  2020  Intermediate  Full-time              Data Scientist        DE   \n",
       "1  2020        Senior  Full-time  Machine Learning Scientist        JP   \n",
       "2  2020        Senior  Full-time           Big Data Engineer        GB   \n",
       "3  2020  Intermediate  Full-time        Product Data Analyst        HN   \n",
       "4  2020        Senior  Full-time   Machine Learning Engineer        US   \n",
       "\n",
       "   Salary Currency Remote work Company location Company size  Salary in USD  \n",
       "0   70000      EUR          No               DE            L          79833  \n",
       "1  260000      USD          No               JP            S         260000  \n",
       "2   85000      GBP   Partially               GB            M         109024  \n",
       "3   20000      USD          No               HN            S          20000  \n",
       "4  150000      USD   Partially               US            L         150000  "
      ]
     },
     "execution_count": 3,
     "metadata": {},
     "output_type": "execute_result"
    }
   ],
   "source": [
    "# Loading the data from the excel file\n",
    "def load_data(filename):\n",
    "    return pd.read_excel(filename)\n",
    "\n",
    "dataset = load_data(\"Salaries.xlsx\")\n",
    "dataset.head()"
   ]
  },
  {
   "cell_type": "markdown",
   "id": "556e61b7",
   "metadata": {},
   "source": [
    "# Step 3 Processing data"
   ]
  },
  {
   "cell_type": "markdown",
   "id": "cbadf057",
   "metadata": {},
   "source": [
    "## Descriptive statistics over the data"
   ]
  },
  {
   "cell_type": "code",
   "execution_count": 4,
   "id": "c17b06ed",
   "metadata": {},
   "outputs": [
    {
     "data": {
      "text/html": [
       "<div>\n",
       "<style scoped>\n",
       "    .dataframe tbody tr th:only-of-type {\n",
       "        vertical-align: middle;\n",
       "    }\n",
       "\n",
       "    .dataframe tbody tr th {\n",
       "        vertical-align: top;\n",
       "    }\n",
       "\n",
       "    .dataframe thead th {\n",
       "        text-align: right;\n",
       "    }\n",
       "</style>\n",
       "<table border=\"1\" class=\"dataframe\">\n",
       "  <thead>\n",
       "    <tr style=\"text-align: right;\">\n",
       "      <th></th>\n",
       "      <th>Year</th>\n",
       "      <th>Salary</th>\n",
       "      <th>Salary in USD</th>\n",
       "    </tr>\n",
       "  </thead>\n",
       "  <tbody>\n",
       "    <tr>\n",
       "      <th>count</th>\n",
       "      <td>607.000000</td>\n",
       "      <td>6.070000e+02</td>\n",
       "      <td>607.000000</td>\n",
       "    </tr>\n",
       "    <tr>\n",
       "      <th>mean</th>\n",
       "      <td>2021.405272</td>\n",
       "      <td>3.240001e+05</td>\n",
       "      <td>112297.869852</td>\n",
       "    </tr>\n",
       "    <tr>\n",
       "      <th>std</th>\n",
       "      <td>0.692133</td>\n",
       "      <td>1.544357e+06</td>\n",
       "      <td>70957.259411</td>\n",
       "    </tr>\n",
       "    <tr>\n",
       "      <th>min</th>\n",
       "      <td>2020.000000</td>\n",
       "      <td>4.000000e+03</td>\n",
       "      <td>2859.000000</td>\n",
       "    </tr>\n",
       "    <tr>\n",
       "      <th>25%</th>\n",
       "      <td>2021.000000</td>\n",
       "      <td>7.000000e+04</td>\n",
       "      <td>62726.000000</td>\n",
       "    </tr>\n",
       "    <tr>\n",
       "      <th>50%</th>\n",
       "      <td>2022.000000</td>\n",
       "      <td>1.150000e+05</td>\n",
       "      <td>101570.000000</td>\n",
       "    </tr>\n",
       "    <tr>\n",
       "      <th>75%</th>\n",
       "      <td>2022.000000</td>\n",
       "      <td>1.650000e+05</td>\n",
       "      <td>150000.000000</td>\n",
       "    </tr>\n",
       "    <tr>\n",
       "      <th>max</th>\n",
       "      <td>2022.000000</td>\n",
       "      <td>3.040000e+07</td>\n",
       "      <td>600000.000000</td>\n",
       "    </tr>\n",
       "  </tbody>\n",
       "</table>\n",
       "</div>"
      ],
      "text/plain": [
       "              Year        Salary  Salary in USD\n",
       "count   607.000000  6.070000e+02     607.000000\n",
       "mean   2021.405272  3.240001e+05  112297.869852\n",
       "std       0.692133  1.544357e+06   70957.259411\n",
       "min    2020.000000  4.000000e+03    2859.000000\n",
       "25%    2021.000000  7.000000e+04   62726.000000\n",
       "50%    2022.000000  1.150000e+05  101570.000000\n",
       "75%    2022.000000  1.650000e+05  150000.000000\n",
       "max    2022.000000  3.040000e+07  600000.000000"
      ]
     },
     "execution_count": 4,
     "metadata": {},
     "output_type": "execute_result"
    }
   ],
   "source": [
    "dataset.describe()"
   ]
  },
  {
   "cell_type": "markdown",
   "id": "fa8eb098",
   "metadata": {},
   "source": [
    "## Investigating outliers and removing them"
   ]
  },
  {
   "cell_type": "markdown",
   "id": "f4c50bcc",
   "metadata": {},
   "source": [
    "### Investigating"
   ]
  },
  {
   "cell_type": "code",
   "execution_count": 5,
   "id": "e0af12aa",
   "metadata": {},
   "outputs": [
    {
     "name": "stderr",
     "output_type": "stream",
     "text": [
      "C:\\Users\\Sandra\\anaconda3\\lib\\site-packages\\seaborn\\_decorators.py:36: FutureWarning: Pass the following variable as a keyword arg: x. From version 0.12, the only valid positional argument will be `data`, and passing other arguments without an explicit keyword will result in an error or misinterpretation.\n",
      "  warnings.warn(\n"
     ]
    },
    {
     "data": {
      "text/plain": [
       "<AxesSubplot:xlabel='Salary in USD'>"
      ]
     },
     "execution_count": 5,
     "metadata": {},
     "output_type": "execute_result"
    },
    {
     "data": {
      "image/png": "[encoded data removed]",
      "text/plain": [
       "<Figure size 432x288 with 1 Axes>"
      ]
     },
     "metadata": {
      "needs_background": "light"
     },
     "output_type": "display_data"
    }
   ],
   "source": [
    "sns.boxplot(dataset[\"Salary in USD\"])"
   ]
  },
  {
   "cell_type": "code",
   "execution_count": 6,
   "id": "6f9c5b02",
   "metadata": {},
   "outputs": [
    {
     "data": {
      "text/plain": [
       "<AxesSubplot:>"
      ]
     },
     "execution_count": 6,
     "metadata": {},
     "output_type": "execute_result"
    },
    {
     "data": {
      "image/png": "[encoded data removed]",
      "text/plain": [
       "<Figure size 432x288 with 1 Axes>"
      ]
     },
     "metadata": {
      "needs_background": "light"
     },
     "output_type": "display_data"
    }
   ],
   "source": [
    "dataset['Salary in USD'].plot()"
   ]
  },
  {
   "cell_type": "markdown",
   "id": "9a765bc8",
   "metadata": {},
   "source": [
    "### Removing outliers"
   ]
  },
  {
   "cell_type": "code",
   "execution_count": 7,
   "id": "f54413ef",
   "metadata": {},
   "outputs": [
    {
     "data": {
      "text/plain": [
       "count       558.000000\n",
       "mean     103759.621864\n",
       "std       51019.193540\n",
       "min       10354.000000\n",
       "25%       63735.750000\n",
       "50%      100000.000000\n",
       "75%      140187.500000\n",
       "max      216000.000000\n",
       "Name: Salary in USD, dtype: float64"
      ]
     },
     "execution_count": 7,
     "metadata": {},
     "output_type": "execute_result"
    }
   ],
   "source": [
    "index = dataset[(dataset['Salary in USD'] >= 220000)|(dataset['Salary in USD'] <= 10000)].index\n",
    "dataset.drop(index, inplace=True)\n",
    "dataset['Salary in USD'].describe()"
   ]
  },
  {
   "cell_type": "code",
   "execution_count": 8,
   "id": "b73a394a",
   "metadata": {},
   "outputs": [
    {
     "data": {
      "text/plain": [
       "<AxesSubplot:>"
      ]
     },
     "execution_count": 8,
     "metadata": {},
     "output_type": "execute_result"
    },
    {
     "data": {
      "image/png": "[encoded data removed]",
      "text/plain": [
       "<Figure size 432x288 with 1 Axes>"
      ]
     },
     "metadata": {
      "needs_background": "light"
     },
     "output_type": "display_data"
    }
   ],
   "source": [
    "dataset['Salary in USD'].plot()"
   ]
  },
  {
   "cell_type": "code",
   "execution_count": 9,
   "id": "3c197dc0",
   "metadata": {},
   "outputs": [
    {
     "data": {
      "text/plain": [
       "<seaborn.axisgrid.FacetGrid at 0x1890d98ed00>"
      ]
     },
     "execution_count": 9,
     "metadata": {},
     "output_type": "execute_result"
    },
    {
     "data": {
      "image/png": "[encoded data removed]",
      "text/plain": [
       "<Figure size 360x360 with 1 Axes>"
      ]
     },
     "metadata": {
      "needs_background": "light"
     },
     "output_type": "display_data"
    }
   ],
   "source": [
    "sns.displot(dataset, x=\"Salary in USD\", bins=25, kde=True)"
   ]
  },
  {
   "cell_type": "markdown",
   "id": "e0d283e1",
   "metadata": {},
   "source": [
    "## Checking for empty cells"
   ]
  },
  {
   "cell_type": "code",
   "execution_count": 10,
   "id": "3433aed2",
   "metadata": {},
   "outputs": [
    {
     "data": {
      "text/plain": [
       "Year                0\n",
       "Experience          0\n",
       "Type                0\n",
       "Title               0\n",
       "Residence           0\n",
       "Salary              0\n",
       "Currency            0\n",
       "Remote work         0\n",
       "Company location    0\n",
       "Company size        0\n",
       "Salary in USD       0\n",
       "dtype: int64"
      ]
     },
     "execution_count": 10,
     "metadata": {},
     "output_type": "execute_result"
    }
   ],
   "source": [
    "dataset.isnull().sum()"
   ]
  },
  {
   "cell_type": "markdown",
   "id": "462db006",
   "metadata": {},
   "source": [
    "## Dropping irrelevant rows"
   ]
  },
  {
   "cell_type": "code",
   "execution_count": 11,
   "id": "75355612",
   "metadata": {},
   "outputs": [
    {
     "name": "stderr",
     "output_type": "stream",
     "text": [
      "C:\\Users\\Sandra\\anaconda3\\lib\\site-packages\\seaborn\\_decorators.py:36: FutureWarning: Pass the following variable as a keyword arg: x. From version 0.12, the only valid positional argument will be `data`, and passing other arguments without an explicit keyword will result in an error or misinterpretation.\n",
      "  warnings.warn(\n"
     ]
    },
    {
     "data": {
      "text/plain": [
       "<AxesSubplot:xlabel='Type', ylabel='count'>"
      ]
     },
     "execution_count": 11,
     "metadata": {},
     "output_type": "execute_result"
    },
    {
     "data": {
      "image/png": "[encoded data removed]",
      "text/plain": [
       "<Figure size 432x288 with 1 Axes>"
      ]
     },
     "metadata": {
      "needs_background": "light"
     },
     "output_type": "display_data"
    }
   ],
   "source": [
    "columns = [\"Year\", \"Experience\", \"Type\", \"Currency\", \"Remote work\", \"Company size\"]\n",
    "sns.countplot(dataset[columns[2]]) #4"
   ]
  },
  {
   "cell_type": "code",
   "execution_count": 12,
   "id": "7fbdb38c",
   "metadata": {},
   "outputs": [],
   "source": [
    "# The temporary, part-time and freelance workers are irrelevant. Dropping the rows with no full-time\n",
    "dataset = dataset[dataset[\"Type\"].str.contains(\"Full-time\") == True] "
   ]
  },
  {
   "cell_type": "markdown",
   "id": "5d06b7ef",
   "metadata": {},
   "source": [
    "## Dropping irrelevant columns"
   ]
  },
  {
   "cell_type": "code",
   "execution_count": 13,
   "id": "105ba667",
   "metadata": {},
   "outputs": [
    {
     "data": {
      "text/html": [
       "<div>\n",
       "<style scoped>\n",
       "    .dataframe tbody tr th:only-of-type {\n",
       "        vertical-align: middle;\n",
       "    }\n",
       "\n",
       "    .dataframe tbody tr th {\n",
       "        vertical-align: top;\n",
       "    }\n",
       "\n",
       "    .dataframe thead th {\n",
       "        text-align: right;\n",
       "    }\n",
       "</style>\n",
       "<table border=\"1\" class=\"dataframe\">\n",
       "  <thead>\n",
       "    <tr style=\"text-align: right;\">\n",
       "      <th></th>\n",
       "      <th>Year</th>\n",
       "      <th>Experience</th>\n",
       "      <th>Title</th>\n",
       "      <th>Residence</th>\n",
       "      <th>Currency</th>\n",
       "      <th>Remote work</th>\n",
       "      <th>Company location</th>\n",
       "      <th>Company size</th>\n",
       "      <th>Salary in USD</th>\n",
       "    </tr>\n",
       "  </thead>\n",
       "  <tbody>\n",
       "    <tr>\n",
       "      <th>0</th>\n",
       "      <td>2020</td>\n",
       "      <td>Intermediate</td>\n",
       "      <td>Data Scientist</td>\n",
       "      <td>DE</td>\n",
       "      <td>EUR</td>\n",
       "      <td>No</td>\n",
       "      <td>DE</td>\n",
       "      <td>L</td>\n",
       "      <td>79833</td>\n",
       "    </tr>\n",
       "    <tr>\n",
       "      <th>2</th>\n",
       "      <td>2020</td>\n",
       "      <td>Senior</td>\n",
       "      <td>Big Data Engineer</td>\n",
       "      <td>GB</td>\n",
       "      <td>GBP</td>\n",
       "      <td>Partially</td>\n",
       "      <td>GB</td>\n",
       "      <td>M</td>\n",
       "      <td>109024</td>\n",
       "    </tr>\n",
       "    <tr>\n",
       "      <th>3</th>\n",
       "      <td>2020</td>\n",
       "      <td>Intermediate</td>\n",
       "      <td>Product Data Analyst</td>\n",
       "      <td>HN</td>\n",
       "      <td>USD</td>\n",
       "      <td>No</td>\n",
       "      <td>HN</td>\n",
       "      <td>S</td>\n",
       "      <td>20000</td>\n",
       "    </tr>\n",
       "    <tr>\n",
       "      <th>4</th>\n",
       "      <td>2020</td>\n",
       "      <td>Senior</td>\n",
       "      <td>Machine Learning Engineer</td>\n",
       "      <td>US</td>\n",
       "      <td>USD</td>\n",
       "      <td>Partially</td>\n",
       "      <td>US</td>\n",
       "      <td>L</td>\n",
       "      <td>150000</td>\n",
       "    </tr>\n",
       "    <tr>\n",
       "      <th>5</th>\n",
       "      <td>2020</td>\n",
       "      <td>Junior</td>\n",
       "      <td>Data Analyst</td>\n",
       "      <td>US</td>\n",
       "      <td>USD</td>\n",
       "      <td>Yes</td>\n",
       "      <td>US</td>\n",
       "      <td>L</td>\n",
       "      <td>72000</td>\n",
       "    </tr>\n",
       "  </tbody>\n",
       "</table>\n",
       "</div>"
      ],
      "text/plain": [
       "   Year    Experience                      Title Residence Currency  \\\n",
       "0  2020  Intermediate             Data Scientist        DE      EUR   \n",
       "2  2020        Senior          Big Data Engineer        GB      GBP   \n",
       "3  2020  Intermediate       Product Data Analyst        HN      USD   \n",
       "4  2020        Senior  Machine Learning Engineer        US      USD   \n",
       "5  2020        Junior               Data Analyst        US      USD   \n",
       "\n",
       "  Remote work Company location Company size  Salary in USD  \n",
       "0          No               DE            L          79833  \n",
       "2   Partially               GB            M         109024  \n",
       "3          No               HN            S          20000  \n",
       "4   Partially               US            L         150000  \n",
       "5         Yes               US            L          72000  "
      ]
     },
     "execution_count": 13,
     "metadata": {},
     "output_type": "execute_result"
    }
   ],
   "source": [
    "dataset = dataset.drop(['Type'], axis=1)\n",
    "dataset = dataset.drop(['Salary'], axis=1)\n",
    "dataset.head() "
   ]
  },
  {
   "cell_type": "markdown",
   "id": "7b20e52b",
   "metadata": {},
   "source": [
    "## Plotting data"
   ]
  },
  {
   "cell_type": "code",
   "execution_count": 14,
   "id": "60b95846",
   "metadata": {},
   "outputs": [
    {
     "data": {
      "image/png": "[encoded data removed]",
      "text/plain": [
       "<Figure size 720x432 with 1 Axes>"
      ]
     },
     "metadata": {
      "needs_background": "light"
     },
     "output_type": "display_data"
    }
   ],
   "source": [
    "fig, ax = plt.subplots(figsize=(10, 6))\n",
    "sns.stripplot(x=dataset['Experience'], y=dataset['Salary in USD'], alpha=0.5, jitter=True, ax=ax)\n",
    "plt.show()"
   ]
  },
  {
   "cell_type": "markdown",
   "id": "ea77ec0c",
   "metadata": {},
   "source": [
    "## Varibale engineering"
   ]
  },
  {
   "cell_type": "code",
   "execution_count": 15,
   "id": "6fac04e5",
   "metadata": {},
   "outputs": [
    {
     "data": {
      "text/html": [
       "<div>\n",
       "<style scoped>\n",
       "    .dataframe tbody tr th:only-of-type {\n",
       "        vertical-align: middle;\n",
       "    }\n",
       "\n",
       "    .dataframe tbody tr th {\n",
       "        vertical-align: top;\n",
       "    }\n",
       "\n",
       "    .dataframe thead th {\n",
       "        text-align: right;\n",
       "    }\n",
       "</style>\n",
       "<table border=\"1\" class=\"dataframe\">\n",
       "  <thead>\n",
       "    <tr style=\"text-align: right;\">\n",
       "      <th></th>\n",
       "      <th>Year</th>\n",
       "      <th>Experience</th>\n",
       "      <th>Title</th>\n",
       "      <th>Workplace abroad</th>\n",
       "      <th>Residence</th>\n",
       "      <th>Currency</th>\n",
       "      <th>Remote work</th>\n",
       "      <th>Company location</th>\n",
       "      <th>Company size</th>\n",
       "      <th>Salary in USD</th>\n",
       "    </tr>\n",
       "  </thead>\n",
       "  <tbody>\n",
       "    <tr>\n",
       "      <th>0</th>\n",
       "      <td>2020</td>\n",
       "      <td>Intermediate</td>\n",
       "      <td>Data Scientist</td>\n",
       "      <td>1</td>\n",
       "      <td>DE</td>\n",
       "      <td>EUR</td>\n",
       "      <td>No</td>\n",
       "      <td>DE</td>\n",
       "      <td>L</td>\n",
       "      <td>79833</td>\n",
       "    </tr>\n",
       "    <tr>\n",
       "      <th>2</th>\n",
       "      <td>2020</td>\n",
       "      <td>Senior</td>\n",
       "      <td>Big Data Engineer</td>\n",
       "      <td>1</td>\n",
       "      <td>GB</td>\n",
       "      <td>GBP</td>\n",
       "      <td>Partially</td>\n",
       "      <td>GB</td>\n",
       "      <td>M</td>\n",
       "      <td>109024</td>\n",
       "    </tr>\n",
       "    <tr>\n",
       "      <th>3</th>\n",
       "      <td>2020</td>\n",
       "      <td>Intermediate</td>\n",
       "      <td>Product Data Analyst</td>\n",
       "      <td>1</td>\n",
       "      <td>HN</td>\n",
       "      <td>USD</td>\n",
       "      <td>No</td>\n",
       "      <td>HN</td>\n",
       "      <td>S</td>\n",
       "      <td>20000</td>\n",
       "    </tr>\n",
       "    <tr>\n",
       "      <th>4</th>\n",
       "      <td>2020</td>\n",
       "      <td>Senior</td>\n",
       "      <td>Machine Learning Engineer</td>\n",
       "      <td>1</td>\n",
       "      <td>US</td>\n",
       "      <td>USD</td>\n",
       "      <td>Partially</td>\n",
       "      <td>US</td>\n",
       "      <td>L</td>\n",
       "      <td>150000</td>\n",
       "    </tr>\n",
       "    <tr>\n",
       "      <th>5</th>\n",
       "      <td>2020</td>\n",
       "      <td>Junior</td>\n",
       "      <td>Data Analyst</td>\n",
       "      <td>1</td>\n",
       "      <td>US</td>\n",
       "      <td>USD</td>\n",
       "      <td>Yes</td>\n",
       "      <td>US</td>\n",
       "      <td>L</td>\n",
       "      <td>72000</td>\n",
       "    </tr>\n",
       "  </tbody>\n",
       "</table>\n",
       "</div>"
      ],
      "text/plain": [
       "   Year    Experience                      Title  Workplace abroad Residence  \\\n",
       "0  2020  Intermediate             Data Scientist                 1        DE   \n",
       "2  2020        Senior          Big Data Engineer                 1        GB   \n",
       "3  2020  Intermediate       Product Data Analyst                 1        HN   \n",
       "4  2020        Senior  Machine Learning Engineer                 1        US   \n",
       "5  2020        Junior               Data Analyst                 1        US   \n",
       "\n",
       "  Currency Remote work Company location Company size  Salary in USD  \n",
       "0      EUR          No               DE            L          79833  \n",
       "2      GBP   Partially               GB            M         109024  \n",
       "3      USD          No               HN            S          20000  \n",
       "4      USD   Partially               US            L         150000  \n",
       "5      USD         Yes               US            L          72000  "
      ]
     },
     "execution_count": 15,
     "metadata": {},
     "output_type": "execute_result"
    }
   ],
   "source": [
    "dataset['Workplace abroad'] = np.where((dataset['Residence'] == dataset['Company location']), 1, 0) # If the persons residence is different to their residence\n",
    "# Moved workplace abroad to 4th instead of last\n",
    "first_column = dataset.pop('Workplace abroad')\n",
    "dataset.insert(3, 'Workplace abroad', first_column)\n",
    "dataset.head()"
   ]
  },
  {
   "cell_type": "markdown",
   "id": "977ba8ad",
   "metadata": {},
   "source": [
    "## Encoding the labels"
   ]
  },
  {
   "cell_type": "code",
   "execution_count": 16,
   "id": "292a85f1",
   "metadata": {},
   "outputs": [
    {
     "data": {
      "text/html": [
       "<div>\n",
       "<style scoped>\n",
       "    .dataframe tbody tr th:only-of-type {\n",
       "        vertical-align: middle;\n",
       "    }\n",
       "\n",
       "    .dataframe tbody tr th {\n",
       "        vertical-align: top;\n",
       "    }\n",
       "\n",
       "    .dataframe thead th {\n",
       "        text-align: right;\n",
       "    }\n",
       "</style>\n",
       "<table border=\"1\" class=\"dataframe\">\n",
       "  <thead>\n",
       "    <tr style=\"text-align: right;\">\n",
       "      <th></th>\n",
       "      <th>Salary in USD</th>\n",
       "      <th>Year</th>\n",
       "      <th>Workplace abroad</th>\n",
       "      <th>Executive</th>\n",
       "      <th>Intermediate</th>\n",
       "      <th>Junior</th>\n",
       "      <th>Senior</th>\n",
       "      <th>AUD</th>\n",
       "      <th>BRL</th>\n",
       "      <th>CAD</th>\n",
       "      <th>...</th>\n",
       "      <th>RO</th>\n",
       "      <th>RU</th>\n",
       "      <th>SG</th>\n",
       "      <th>SI</th>\n",
       "      <th>TR</th>\n",
       "      <th>UA</th>\n",
       "      <th>US</th>\n",
       "      <th>L</th>\n",
       "      <th>M</th>\n",
       "      <th>S</th>\n",
       "    </tr>\n",
       "  </thead>\n",
       "  <tbody>\n",
       "    <tr>\n",
       "      <th>0</th>\n",
       "      <td>79833</td>\n",
       "      <td>2020</td>\n",
       "      <td>1</td>\n",
       "      <td>0</td>\n",
       "      <td>1</td>\n",
       "      <td>0</td>\n",
       "      <td>0</td>\n",
       "      <td>0</td>\n",
       "      <td>0</td>\n",
       "      <td>0</td>\n",
       "      <td>...</td>\n",
       "      <td>0</td>\n",
       "      <td>0</td>\n",
       "      <td>0</td>\n",
       "      <td>0</td>\n",
       "      <td>0</td>\n",
       "      <td>0</td>\n",
       "      <td>0</td>\n",
       "      <td>1</td>\n",
       "      <td>0</td>\n",
       "      <td>0</td>\n",
       "    </tr>\n",
       "    <tr>\n",
       "      <th>2</th>\n",
       "      <td>109024</td>\n",
       "      <td>2020</td>\n",
       "      <td>1</td>\n",
       "      <td>0</td>\n",
       "      <td>0</td>\n",
       "      <td>0</td>\n",
       "      <td>1</td>\n",
       "      <td>0</td>\n",
       "      <td>0</td>\n",
       "      <td>0</td>\n",
       "      <td>...</td>\n",
       "      <td>0</td>\n",
       "      <td>0</td>\n",
       "      <td>0</td>\n",
       "      <td>0</td>\n",
       "      <td>0</td>\n",
       "      <td>0</td>\n",
       "      <td>0</td>\n",
       "      <td>0</td>\n",
       "      <td>1</td>\n",
       "      <td>0</td>\n",
       "    </tr>\n",
       "    <tr>\n",
       "      <th>3</th>\n",
       "      <td>20000</td>\n",
       "      <td>2020</td>\n",
       "      <td>1</td>\n",
       "      <td>0</td>\n",
       "      <td>1</td>\n",
       "      <td>0</td>\n",
       "      <td>0</td>\n",
       "      <td>0</td>\n",
       "      <td>0</td>\n",
       "      <td>0</td>\n",
       "      <td>...</td>\n",
       "      <td>0</td>\n",
       "      <td>0</td>\n",
       "      <td>0</td>\n",
       "      <td>0</td>\n",
       "      <td>0</td>\n",
       "      <td>0</td>\n",
       "      <td>0</td>\n",
       "      <td>0</td>\n",
       "      <td>0</td>\n",
       "      <td>1</td>\n",
       "    </tr>\n",
       "    <tr>\n",
       "      <th>4</th>\n",
       "      <td>150000</td>\n",
       "      <td>2020</td>\n",
       "      <td>1</td>\n",
       "      <td>0</td>\n",
       "      <td>0</td>\n",
       "      <td>0</td>\n",
       "      <td>1</td>\n",
       "      <td>0</td>\n",
       "      <td>0</td>\n",
       "      <td>0</td>\n",
       "      <td>...</td>\n",
       "      <td>0</td>\n",
       "      <td>0</td>\n",
       "      <td>0</td>\n",
       "      <td>0</td>\n",
       "      <td>0</td>\n",
       "      <td>0</td>\n",
       "      <td>1</td>\n",
       "      <td>1</td>\n",
       "      <td>0</td>\n",
       "      <td>0</td>\n",
       "    </tr>\n",
       "    <tr>\n",
       "      <th>5</th>\n",
       "      <td>72000</td>\n",
       "      <td>2020</td>\n",
       "      <td>1</td>\n",
       "      <td>0</td>\n",
       "      <td>0</td>\n",
       "      <td>1</td>\n",
       "      <td>0</td>\n",
       "      <td>0</td>\n",
       "      <td>0</td>\n",
       "      <td>0</td>\n",
       "      <td>...</td>\n",
       "      <td>0</td>\n",
       "      <td>0</td>\n",
       "      <td>0</td>\n",
       "      <td>0</td>\n",
       "      <td>0</td>\n",
       "      <td>0</td>\n",
       "      <td>1</td>\n",
       "      <td>1</td>\n",
       "      <td>0</td>\n",
       "      <td>0</td>\n",
       "    </tr>\n",
       "  </tbody>\n",
       "</table>\n",
       "<p>5 rows × 176 columns</p>\n",
       "</div>"
      ],
      "text/plain": [
       "   Salary in USD  Year  Workplace abroad  Executive  Intermediate  Junior  \\\n",
       "0          79833  2020                 1          0             1       0   \n",
       "2         109024  2020                 1          0             0       0   \n",
       "3          20000  2020                 1          0             1       0   \n",
       "4         150000  2020                 1          0             0       0   \n",
       "5          72000  2020                 1          0             0       1   \n",
       "\n",
       "   Senior  AUD  BRL  CAD  ...  RO  RU  SG  SI  TR  UA  US  L  M  S  \n",
       "0       0    0    0    0  ...   0   0   0   0   0   0   0  1  0  0  \n",
       "2       1    0    0    0  ...   0   0   0   0   0   0   0  0  1  0  \n",
       "3       0    0    0    0  ...   0   0   0   0   0   0   0  0  0  1  \n",
       "4       1    0    0    0  ...   0   0   0   0   0   0   1  1  0  0  \n",
       "5       0    0    0    0  ...   0   0   0   0   0   0   1  1  0  0  \n",
       "\n",
       "[5 rows x 176 columns]"
      ]
     },
     "execution_count": 16,
     "metadata": {},
     "output_type": "execute_result"
    }
   ],
   "source": [
    "columns_to_process = [\"Experience\", \"Currency\", \"Title\", \"Remote work\", \"Residence\", \"Company location\", \"Company size\"]\n",
    "# label_encoder = LabelEncoder()\n",
    "for column in columns_to_process:\n",
    "    # Get one hot encoding of columns 'vehicleType'\n",
    "    dummy = pd.get_dummies(dataset[column])\n",
    "    # Drop column as it is now encoded\n",
    "    dataset = dataset.drop(column ,axis = 1)\n",
    "    # Join the encoded df\n",
    "    dataset = pd.concat([dataset, dummy], axis = 1)\n",
    "#     dataset[column] = label_encoder.fit_transform(dataset[column])\n",
    "# shift column 'Salary in USD' to first position\n",
    "first_column = dataset.pop('Salary in USD')\n",
    "  \n",
    "# insert column using insert(position,column_name,\n",
    "# first_column) function\n",
    "dataset.insert(0, 'Salary in USD', first_column)\n",
    "dataset.head()\n"
   ]
  },
  {
   "cell_type": "markdown",
   "id": "af109bca",
   "metadata": {},
   "source": [
    "## Save processed dataset in new file and load it from it"
   ]
  },
  {
   "cell_type": "markdown",
   "id": "13cd42cd",
   "metadata": {},
   "source": [
    "### Save dataset in new excel file"
   ]
  },
  {
   "cell_type": "code",
   "execution_count": 17,
   "id": "9085f32d",
   "metadata": {},
   "outputs": [],
   "source": [
    "# Save the dataset in a new file so we don't need to run the whole notebook all the time.\n",
    "dataset.to_excel(\"processed_dataset.xlsx\")"
   ]
  },
  {
   "cell_type": "markdown",
   "id": "fa24a564",
   "metadata": {},
   "source": [
    "### Load from new excel file"
   ]
  },
  {
   "cell_type": "code",
   "execution_count": 18,
   "id": "e5bf099e",
   "metadata": {},
   "outputs": [
    {
     "data": {
      "text/html": [
       "<div>\n",
       "<style scoped>\n",
       "    .dataframe tbody tr th:only-of-type {\n",
       "        vertical-align: middle;\n",
       "    }\n",
       "\n",
       "    .dataframe tbody tr th {\n",
       "        vertical-align: top;\n",
       "    }\n",
       "\n",
       "    .dataframe thead th {\n",
       "        text-align: right;\n",
       "    }\n",
       "</style>\n",
       "<table border=\"1\" class=\"dataframe\">\n",
       "  <thead>\n",
       "    <tr style=\"text-align: right;\">\n",
       "      <th></th>\n",
       "      <th>Salary in USD</th>\n",
       "      <th>Year</th>\n",
       "      <th>Workplace abroad</th>\n",
       "      <th>Executive</th>\n",
       "      <th>Intermediate</th>\n",
       "      <th>Junior</th>\n",
       "      <th>Senior</th>\n",
       "      <th>AUD</th>\n",
       "      <th>BRL</th>\n",
       "      <th>CAD</th>\n",
       "      <th>...</th>\n",
       "      <th>RO.1</th>\n",
       "      <th>RU.1</th>\n",
       "      <th>SG.1</th>\n",
       "      <th>SI.1</th>\n",
       "      <th>TR.1</th>\n",
       "      <th>UA.1</th>\n",
       "      <th>US.1</th>\n",
       "      <th>L</th>\n",
       "      <th>M</th>\n",
       "      <th>S</th>\n",
       "    </tr>\n",
       "  </thead>\n",
       "  <tbody>\n",
       "    <tr>\n",
       "      <th>0</th>\n",
       "      <td>79833</td>\n",
       "      <td>2020</td>\n",
       "      <td>1</td>\n",
       "      <td>0</td>\n",
       "      <td>1</td>\n",
       "      <td>0</td>\n",
       "      <td>0</td>\n",
       "      <td>0</td>\n",
       "      <td>0</td>\n",
       "      <td>0</td>\n",
       "      <td>...</td>\n",
       "      <td>0</td>\n",
       "      <td>0</td>\n",
       "      <td>0</td>\n",
       "      <td>0</td>\n",
       "      <td>0</td>\n",
       "      <td>0</td>\n",
       "      <td>0</td>\n",
       "      <td>1</td>\n",
       "      <td>0</td>\n",
       "      <td>0</td>\n",
       "    </tr>\n",
       "    <tr>\n",
       "      <th>1</th>\n",
       "      <td>109024</td>\n",
       "      <td>2020</td>\n",
       "      <td>1</td>\n",
       "      <td>0</td>\n",
       "      <td>0</td>\n",
       "      <td>0</td>\n",
       "      <td>1</td>\n",
       "      <td>0</td>\n",
       "      <td>0</td>\n",
       "      <td>0</td>\n",
       "      <td>...</td>\n",
       "      <td>0</td>\n",
       "      <td>0</td>\n",
       "      <td>0</td>\n",
       "      <td>0</td>\n",
       "      <td>0</td>\n",
       "      <td>0</td>\n",
       "      <td>0</td>\n",
       "      <td>0</td>\n",
       "      <td>1</td>\n",
       "      <td>0</td>\n",
       "    </tr>\n",
       "    <tr>\n",
       "      <th>2</th>\n",
       "      <td>20000</td>\n",
       "      <td>2020</td>\n",
       "      <td>1</td>\n",
       "      <td>0</td>\n",
       "      <td>1</td>\n",
       "      <td>0</td>\n",
       "      <td>0</td>\n",
       "      <td>0</td>\n",
       "      <td>0</td>\n",
       "      <td>0</td>\n",
       "      <td>...</td>\n",
       "      <td>0</td>\n",
       "      <td>0</td>\n",
       "      <td>0</td>\n",
       "      <td>0</td>\n",
       "      <td>0</td>\n",
       "      <td>0</td>\n",
       "      <td>0</td>\n",
       "      <td>0</td>\n",
       "      <td>0</td>\n",
       "      <td>1</td>\n",
       "    </tr>\n",
       "    <tr>\n",
       "      <th>3</th>\n",
       "      <td>150000</td>\n",
       "      <td>2020</td>\n",
       "      <td>1</td>\n",
       "      <td>0</td>\n",
       "      <td>0</td>\n",
       "      <td>0</td>\n",
       "      <td>1</td>\n",
       "      <td>0</td>\n",
       "      <td>0</td>\n",
       "      <td>0</td>\n",
       "      <td>...</td>\n",
       "      <td>0</td>\n",
       "      <td>0</td>\n",
       "      <td>0</td>\n",
       "      <td>0</td>\n",
       "      <td>0</td>\n",
       "      <td>0</td>\n",
       "      <td>1</td>\n",
       "      <td>1</td>\n",
       "      <td>0</td>\n",
       "      <td>0</td>\n",
       "    </tr>\n",
       "    <tr>\n",
       "      <th>4</th>\n",
       "      <td>72000</td>\n",
       "      <td>2020</td>\n",
       "      <td>1</td>\n",
       "      <td>0</td>\n",
       "      <td>0</td>\n",
       "      <td>1</td>\n",
       "      <td>0</td>\n",
       "      <td>0</td>\n",
       "      <td>0</td>\n",
       "      <td>0</td>\n",
       "      <td>...</td>\n",
       "      <td>0</td>\n",
       "      <td>0</td>\n",
       "      <td>0</td>\n",
       "      <td>0</td>\n",
       "      <td>0</td>\n",
       "      <td>0</td>\n",
       "      <td>1</td>\n",
       "      <td>1</td>\n",
       "      <td>0</td>\n",
       "      <td>0</td>\n",
       "    </tr>\n",
       "  </tbody>\n",
       "</table>\n",
       "<p>5 rows × 176 columns</p>\n",
       "</div>"
      ],
      "text/plain": [
       "   Salary in USD  Year  Workplace abroad  Executive  Intermediate  Junior  \\\n",
       "0          79833  2020                 1          0             1       0   \n",
       "1         109024  2020                 1          0             0       0   \n",
       "2          20000  2020                 1          0             1       0   \n",
       "3         150000  2020                 1          0             0       0   \n",
       "4          72000  2020                 1          0             0       1   \n",
       "\n",
       "   Senior  AUD  BRL  CAD  ...  RO.1  RU.1  SG.1  SI.1  TR.1  UA.1  US.1  L  M  \\\n",
       "0       0    0    0    0  ...     0     0     0     0     0     0     0  1  0   \n",
       "1       1    0    0    0  ...     0     0     0     0     0     0     0  0  1   \n",
       "2       0    0    0    0  ...     0     0     0     0     0     0     0  0  0   \n",
       "3       1    0    0    0  ...     0     0     0     0     0     0     1  1  0   \n",
       "4       0    0    0    0  ...     0     0     0     0     0     0     1  1  0   \n",
       "\n",
       "   S  \n",
       "0  0  \n",
       "1  0  \n",
       "2  1  \n",
       "3  0  \n",
       "4  0  \n",
       "\n",
       "[5 rows x 176 columns]"
      ]
     },
     "execution_count": 18,
     "metadata": {},
     "output_type": "execute_result"
    }
   ],
   "source": [
    "dataset = load_data(\"processed_dataset.xlsx\")\n",
    "dataset.drop(columns=dataset.columns[0], axis=1, inplace=True)\n",
    "dataset.head()"
   ]
  },
  {
   "cell_type": "markdown",
   "id": "966c7c26",
   "metadata": {},
   "source": [
    "# Step 4 Split dataset"
   ]
  },
  {
   "cell_type": "code",
   "execution_count": 19,
   "id": "86a806d3",
   "metadata": {},
   "outputs": [
    {
     "name": "stdout",
     "output_type": "stream",
     "text": [
      "Train X dataset shape: (433, 174)\n",
      "Train y dataset shape (433,)\n",
      "Test X dataset shape: (109, 174)\n",
      "Test y dataset shape (109,)\n"
     ]
    }
   ],
   "source": [
    "x = dataset.iloc[:,1:len(dataset.columns)-1]\n",
    "y = dataset.iloc[:, 0] \n",
    "\n",
    "x_train, x_test, y_train, y_test = train_test_split(x, y, test_size=0.2, random_state=42)\n",
    "print('Train X dataset shape:',x_train.shape)\n",
    "print('Train y dataset shape', y_train.shape)\n",
    "print('Test X dataset shape:',x_test.shape)\n",
    "print('Test y dataset shape', y_test.shape)\n",
    "#print(y)"
   ]
  },
  {
   "cell_type": "markdown",
   "id": "e3263b9e",
   "metadata": {},
   "source": [
    "# Step 5 Training the models"
   ]
  },
  {
   "cell_type": "markdown",
   "id": "ea941458",
   "metadata": {},
   "source": [
    "#### true vs prediction graph"
   ]
  },
  {
   "cell_type": "code",
   "execution_count": 20,
   "id": "2e33b9c7",
   "metadata": {},
   "outputs": [],
   "source": [
    "from numpy.polynomial.polynomial import polyfit\n",
    "def plotgraph(test, predict):\n",
    "    plt.scatter(test, predict)\n",
    "    plt.xlabel(\"Actual values\")\n",
    "    plt.ylabel(\"Predicted values\")\n",
    "    # Fit with polyfit\n",
    "    b, m = polyfit(test, predict, 1)\n",
    "    plt.plot(test, predict, '.')\n",
    "    plt.plot(test, b + m * test, '-')\n",
    "    plt.show()\n",
    "    # sns.jointplot(x=test, y=predict, alpha=0.5, hue=dataset['Experience'], height=6);"
   ]
  },
  {
   "cell_type": "markdown",
   "id": "0efc9cd1",
   "metadata": {},
   "source": [
    "## LinearRegression"
   ]
  },
  {
   "cell_type": "code",
   "execution_count": 21,
   "id": "c85d3d23",
   "metadata": {},
   "outputs": [
    {
     "name": "stdout",
     "output_type": "stream",
     "text": [
      "LinearRegression MAE:  6.850871066021396e+16\n"
     ]
    },
    {
     "data": {
      "image/png": "[encoded data removed]",
      "text/plain": [
       "<Figure size 432x288 with 1 Axes>"
      ]
     },
     "metadata": {
      "needs_background": "light"
     },
     "output_type": "display_data"
    }
   ],
   "source": [
    "lin_reg = LinearRegression() # no random state for linearregression model\n",
    "lin_reg.fit(x_train, y_train)\n",
    "lin_y_predict = lin_reg.predict(x_test)\n",
    "print(\"LinearRegression MAE: \", mean_absolute_error(y_test, lin_y_predict))\n",
    "plotgraph(y_test, lin_y_predict)"
   ]
  },
  {
   "cell_type": "markdown",
   "id": "70d1501c",
   "metadata": {},
   "source": [
    "## GradientBoostingRegressor"
   ]
  },
  {
   "cell_type": "markdown",
   "id": "fd994219",
   "metadata": {},
   "source": [
    "### Without GridSearchCV"
   ]
  },
  {
   "cell_type": "code",
   "execution_count": 22,
   "id": "aace23e4",
   "metadata": {},
   "outputs": [
    {
     "name": "stdout",
     "output_type": "stream",
     "text": [
      "GradientBoostingRegressor without GridSearchCV MAE:  24878.97950308882\n"
     ]
    },
    {
     "data": {
      "image/png": "[encoded data removed]",
      "text/plain": [
       "<Figure size 432x288 with 1 Axes>"
      ]
     },
     "metadata": {
      "needs_background": "light"
     },
     "output_type": "display_data"
    }
   ],
   "source": [
    "GBR = GradientBoostingRegressor(random_state=42)\n",
    "GBR.fit(x_train, y_train)\n",
    "GBR2_y_predict = GBR.predict(x_test)\n",
    "print(\"GradientBoostingRegressor without GridSearchCV MAE: \", mean_absolute_error(y_test, GBR2_y_predict))\n",
    "plotgraph(y_test, GBR2_y_predict)"
   ]
  },
  {
   "cell_type": "markdown",
   "id": "cf857edb",
   "metadata": {},
   "source": [
    "### With GridSearchCV"
   ]
  },
  {
   "cell_type": "markdown",
   "id": "9ad03fd4",
   "metadata": {},
   "source": [
    "#### https://www.projectpro.io/recipes/find-optimal-parameters-using-gridsearchcv-for-regression"
   ]
  },
  {
   "cell_type": "code",
   "execution_count": 23,
   "id": "285730f2",
   "metadata": {},
   "outputs": [
    {
     "name": "stdout",
     "output_type": "stream",
     "text": [
      "\n",
      " The best estimator across ALL searched params:\n",
      " GradientBoostingRegressor(learning_rate=0.0025, max_depth=4,\n",
      "                          max_features='auto', n_estimators=1500,\n",
      "                          random_state=42, subsample=0.9)\n",
      "\n",
      " The best score across ALL searched params:\n",
      " 0.5617695390177229\n",
      "\n",
      " GradientBoostingRegressor with GridSearchCV MAE:  25205.825087081816\n"
     ]
    },
    {
     "data": {
      "image/png": "[encoded data removed]",
      "text/plain": [
       "<Figure size 432x288 with 1 Axes>"
      ]
     },
     "metadata": {
      "needs_background": "light"
     },
     "output_type": "display_data"
    }
   ],
   "source": [
    "GBR = GradientBoostingRegressor(random_state=42)\n",
    "parameters = {'learning_rate': [0.0025],\n",
    "              'subsample'    : [0.9],\n",
    "              'n_estimators' : [1500],\n",
    "              'max_depth'    : [4],\n",
    "              'max_features' : ['auto']\n",
    "              }\n",
    "# parameters = {'learning_rate': [0.001, 0.005, 0.0025, 0.01,0.02,0.03,0.04],\n",
    "#               'subsample'    : [0.9, 0.5, 0.2, 0.1, 0.05, 0.01],\n",
    "#               'n_estimators' : [10,50,100,500,1000, 1500],\n",
    "#               'max_depth'    : [2,4,6,8,10],\n",
    "#               'max_features' : ['auto', 'sqrt', 'log2']\n",
    "#               }\n",
    "\n",
    "# started off with:\n",
    "# parameters = {'learning_rate': [0.01,0.02,0.03,0.04],\n",
    "#               'subsample'    : [0.9, 0.5, 0.2, 0.1],\n",
    "#               'n_estimators' : [100,500,1000, 1500],\n",
    "#               'max_depth'    : [4,6,8,10]\n",
    "#               }\n",
    "grid_GBR = GridSearchCV(estimator=GBR, param_grid = parameters, cv = 5,n_jobs=-1)\n",
    "grid_GBR.fit(x_train, y_train)\n",
    "\n",
    "print(\"\\n The best estimator across ALL searched params:\\n\",grid_GBR.best_estimator_)\n",
    "print(\"\\n The best score across ALL searched params:\\n\",grid_GBR.best_score_)\n",
    "GBR_y_predict = grid_GBR.predict(x_test)\n",
    "print(\"\\n GradientBoostingRegressor with GridSearchCV MAE: \",mean_absolute_error(y_test, GBR_y_predict))\n",
    "plotgraph(y_test, GBR_y_predict)"
   ]
  },
  {
   "cell_type": "markdown",
   "id": "1087e6b6",
   "metadata": {},
   "source": [
    "## RandomForestRegressor"
   ]
  },
  {
   "cell_type": "markdown",
   "id": "8ce3753e",
   "metadata": {},
   "source": [
    "### Without GridSearchCV"
   ]
  },
  {
   "cell_type": "code",
   "execution_count": 24,
   "id": "5a775e3f",
   "metadata": {},
   "outputs": [
    {
     "name": "stdout",
     "output_type": "stream",
     "text": [
      "RandomForestRegressor without GridSearchCV MAE:  25954.288316886483\n"
     ]
    },
    {
     "data": {
      "image/png": "[encoded data removed]",
      "text/plain": [
       "<Figure size 432x288 with 1 Axes>"
      ]
     },
     "metadata": {
      "needs_background": "light"
     },
     "output_type": "display_data"
    }
   ],
   "source": [
    "regr = RandomForestRegressor(max_depth=7, random_state=42)\n",
    "regr.fit(x_train, y_train)\n",
    "forest_y_predict = regr.predict(x_test)\n",
    "print(\"RandomForestRegressor without GridSearchCV MAE: \", mean_absolute_error(y_test, forest_y_predict))\n",
    "plotgraph(y_test, forest_y_predict)"
   ]
  },
  {
   "cell_type": "markdown",
   "id": "9b27561d",
   "metadata": {},
   "source": [
    "### With GridSearchCV"
   ]
  },
  {
   "cell_type": "code",
   "execution_count": 25,
   "id": "0b02e761",
   "metadata": {},
   "outputs": [
    {
     "name": "stdout",
     "output_type": "stream",
     "text": [
      "\n",
      " The best estimator across ALL searched params:\n",
      " RandomForestRegressor(criterion='absolute_error', max_depth=10,\n",
      "                      max_features='sqrt', n_estimators=500, random_state=42)\n",
      "\n",
      " The best score across ALL searched params:\n",
      " 0.5358343638430827\n",
      "\n",
      " RandomForestRegressor with GridSearchCV MAE:  25330.08702752294\n"
     ]
    },
    {
     "data": {
      "image/png": "[encoded data removed]",
      "text/plain": [
       "<Figure size 432x288 with 1 Axes>"
      ]
     },
     "metadata": {
      "needs_background": "light"
     },
     "output_type": "display_data"
    }
   ],
   "source": [
    "regr = RandomForestRegressor(random_state=42)\n",
    "\n",
    "# parameters = {'max_depth'    : [6,7,8,10],\n",
    "#               'max_features' : [3,4,5,6],\n",
    "#               'n_estimators' : [50,100,500,1000, 1500],\n",
    "#               'max_features' : ['auto','sqrt', 'log2'],\n",
    "#               'criterion'    : ['squared_error', 'absolute_error', 'poisson']\n",
    "#               }\n",
    "parameters = {'max_depth'    : [10],\n",
    "              'n_estimators' : [500],\n",
    "              'max_features' : ['sqrt'],\n",
    "              'criterion'    : ['absolute_error']\n",
    "              }\n",
    "grid_RFR = GridSearchCV(estimator=regr, param_grid = parameters)\n",
    "grid_RFR.fit(x_train, y_train)\n",
    "\n",
    "print(\"\\n The best estimator across ALL searched params:\\n\",grid_RFR.best_estimator_)\n",
    "print(\"\\n The best score across ALL searched params:\\n\",grid_RFR.best_score_)\n",
    "forest_y_predict = grid_RFR.predict(x_test)\n",
    "print(\"\\n RandomForestRegressor with GridSearchCV MAE: \", mean_absolute_error(y_test, forest_y_predict))\n",
    "plotgraph(y_test, forest_y_predict)"
   ]
  },
  {
   "cell_type": "markdown",
   "id": "a3d5ae33",
   "metadata": {},
   "source": [
    "##### Below 25 000 MAE would be good"
   ]
  },
  {
   "cell_type": "code",
   "execution_count": null,
   "id": "b276f7cf",
   "metadata": {},
   "outputs": [],
   "source": []
  }
 ],
 "metadata": {
  "kernelspec": {
   "display_name": "Python 3 (ipykernel)",
   "language": "python",
   "name": "python3"
  },
  "language_info": {
   "codemirror_mode": {
    "name": "ipython",
    "version": 3
   },
   "file_extension": ".py",
   "mimetype": "text/x-python",
   "name": "python",
   "nbconvert_exporter": "python",
   "pygments_lexer": "ipython3",
   "version": "3.9.12"
  }
 },
 "nbformat": 4,
 "nbformat_minor": 5
}
